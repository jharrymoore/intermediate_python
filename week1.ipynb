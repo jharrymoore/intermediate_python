{
 "cells": [
  {
   "cell_type": "markdown",
   "metadata": {},
   "source": [
    "# Intermediate Python - Week 1\n",
    "\n",
    "Welcome to the Intermediate Python course!\n",
    "\n",
    "We will be focussing on getting familiar with Python using examples that you might come across in your day-to-day work.\n",
    "During this course, you will get familiar with Python for automating data analysis, creating publication-quality graphics,\n",
    "and we will touch upon machine learning.  We are assuming you are somewhat familiar with Python (or another object-oriented-language),\n",
    "since we will not cover the basics of syntax and login in as much detail as the beginner course.\n",
    "\n",
    "The course will be taught primarily through Jupyter notebooks, although it will take the form of an initial introduction from us,\n",
    "followed by plenty of problem-solving with help from us when required\n",
    "\n",
    "We will use individual break out rooms to talk through specific problems with one of us.\n",
    "There will be plenty of content in the notebooks, which you should work through at your own pace during the workshop\n",
    "sessions.  Anything left over can be completed as homework before the next session."
   ]
  },
  {
   "cell_type": "markdown",
   "metadata": {},
   "source": [
    "## Goals for Week 1\n",
    "_____\n",
    "* Understand Python's library of external packages\n",
    "* Introduction to environments and package management\n",
    "* Introduction to numpy"
   ]
  },
  {
   "cell_type": "markdown",
   "metadata": {},
   "source": [
    "### Expanding on the standard library: packages, package managers and environments\n",
    "_____"
   ]
  },
  {
   "cell_type": "markdown",
   "metadata": {},
   "source": [
    "Python, like many languages, has an extensive library of modules - packaged up python code - that extend it's basic functionality and allows you to use python for many task-specific things without having to reinvent the wheel.  We will make extensive use of these packages in the coming weeks.\n",
    "\n",
    "We can install external packages using a package manager like `pip` or `conda`, e.g. `pip install numpy` will, by default, install the latest version of numpy it can find.\n",
    "\n",
    "You can imagine that having lots of packages available to the system python interpreter could get messy! What if two packages require a different version of numpy?\n",
    "\n",
    "To solve this problem we create isolated environments, where the python interpreter can only access certain packages that we control.  This will be crucial in a few weeks when we start to explore writing your own standalone programs outside a jupyter notebook.\n",
    "\n"
   ]
  },
  {
   "cell_type": "markdown",
   "metadata": {},
   "source": [
    "### A worked useful of external packages - Introduction to NumPy"
   ]
  },
  {
   "cell_type": "markdown",
   "metadata": {},
   "source": [
    "NumPy (Numerical Python) is Python's <i> de facto <i/> linear algebra package - it provides support for working and operating on matrices.  It introduces the array datatype and associated linear algebra methods for fast matrix computation - think list of lists but much faster!\n",
    "\n",
    "Let's get some practice with the basics of NumPy and handling array data"
   ]
  },
  {
   "cell_type": "code",
   "execution_count": 29,
   "metadata": {},
   "outputs": [],
   "source": [
    "import numpy as np"
   ]
  },
  {
   "cell_type": "markdown",
   "metadata": {},
   "source": [
    "A fundamental (but often overlooked) component of writing code is writing useful documentation that goes along with it - all of the modules we will be using have thorough documentation that describes what each function does, the expected arguments, what it will return and in most cases an example, e.g...."
   ]
  },
  {
   "cell_type": "code",
   "execution_count": 30,
   "metadata": {},
   "outputs": [],
   "source": [
    "# help(np.array)"
   ]
  },
  {
   "cell_type": "markdown",
   "metadata": {},
   "source": [
    "The central object we will be dealing with is the numpy array\n",
    "\n",
    "We can initialise an array object in a few ways:"
   ]
  },
  {
   "cell_type": "code",
   "execution_count": 31,
   "metadata": {},
   "outputs": [],
   "source": [
    "# create a 1D array with 20 elements using np.arange()\n",
    "# ------------------------------------\n",
    "# now use the array's reshape method to reshape your array to have dimensions 4x5\n",
    "# ------------------------------------\n",
    "\n",
    "\n",
    "# do the same thing with np.linspace()\n",
    "# ------------------------------------"
   ]
  },
  {
   "cell_type": "code",
   "execution_count": 32,
   "metadata": {},
   "outputs": [],
   "source": [
    "# Another way to initialise arrays is from nested lists:\n",
    "# ------------------------------------"
   ]
  },
  {
   "cell_type": "code",
   "execution_count": 33,
   "outputs": [],
   "source": [
    "# a few other methods for array initialisation\n",
    "# Initialise an array of zeroes\n",
    "# ------------------------------------"
   ],
   "metadata": {
    "collapsed": false,
    "pycharm": {
     "name": "#%%\n"
    }
   }
  },
  {
   "cell_type": "code",
   "execution_count": 34,
   "outputs": [],
   "source": [
    "# or the same for an array filled with ones\n",
    "# ------------------------------------\n"
   ],
   "metadata": {
    "collapsed": false,
    "pycharm": {
     "name": "#%%\n"
    }
   }
  },
  {
   "cell_type": "code",
   "execution_count": 35,
   "outputs": [],
   "source": [
    "# or a general case for any value\n",
    "# ------------------------------------\n"
   ],
   "metadata": {
    "collapsed": false,
    "pycharm": {
     "name": "#%%\n"
    }
   }
  },
  {
   "cell_type": "code",
   "execution_count": 36,
   "outputs": [],
   "source": [
    "# create the indentity matrix of a given dimention\n",
    "# ------------------------------------"
   ],
   "metadata": {
    "collapsed": false,
    "pycharm": {
     "name": "#%%\n"
    }
   }
  },
  {
   "cell_type": "markdown",
   "metadata": {},
   "source": [
    "We can inspect some properties of the arrays we've created, using methods of the array class"
   ]
  },
  {
   "cell_type": "code",
   "execution_count": 37,
   "metadata": {},
   "outputs": [],
   "source": [
    "# print the shape of the array using the array's `shape` attribute\n",
    "# ------------------------------------\n",
    "\n",
    "# print the array's datatype using Python's built-in `type` function\n",
    "# ------------------------------------\n",
    "\n",
    "# get the internal datatype the array is storing by accessing the name attribute of the array's `dtype` ie array.dtype.name"
   ]
  },
  {
   "cell_type": "markdown",
   "metadata": {},
   "source": [
    "#### Performing functions on arrays\n",
    "\n",
    "Now that we know a few ways to initialise arrays, we can go through some of their methods\n"
   ]
  },
  {
   "cell_type": "code",
   "execution_count": 38,
   "outputs": [],
   "source": [
    "# define a matrix\n",
    "\n",
    "# calculate the sum\n",
    "# ------------------------------------\n"
   ],
   "metadata": {
    "collapsed": false,
    "pycharm": {
     "name": "#%%\n"
    }
   }
  },
  {
   "cell_type": "code",
   "execution_count": 39,
   "outputs": [],
   "source": [
    "# or we could do a cumulative summation\n"
   ],
   "metadata": {
    "collapsed": false,
    "pycharm": {
     "name": "#%%\n"
    }
   }
  },
  {
   "cell_type": "code",
   "execution_count": 40,
   "outputs": [],
   "source": [
    "# you can calculate mean, min, max, var, std in the same way"
   ],
   "metadata": {
    "collapsed": false,
    "pycharm": {
     "name": "#%%\n"
    }
   }
  },
  {
   "cell_type": "code",
   "execution_count": 41,
   "outputs": [],
   "source": [
    "# define two matrices of the same size and add them together\n",
    "# ------------------------------------\n"
   ],
   "metadata": {
    "collapsed": false,
    "pycharm": {
     "name": "#%%\n"
    }
   }
  },
  {
   "cell_type": "code",
   "execution_count": 42,
   "outputs": [],
   "source": [
    "# add an integer, elementwise, to the array\n",
    "# ------------------------------------\n"
   ],
   "metadata": {
    "collapsed": false,
    "pycharm": {
     "name": "#%%\n"
    }
   }
  },
  {
   "cell_type": "code",
   "execution_count": 43,
   "outputs": [],
   "source": [
    "# define a matrix and apply the sinusoid function to it.  Then print the elementwise square of the result\n",
    "# ------------------------------------"
   ],
   "metadata": {
    "collapsed": false,
    "pycharm": {
     "name": "#%%\n"
    }
   }
  },
  {
   "cell_type": "code",
   "execution_count": 44,
   "outputs": [],
   "source": [
    "# a quick note on broadcasting arrays together\n",
    "# ------------------------------------\n",
    "\n",
    "\n"
   ],
   "metadata": {
    "collapsed": false,
    "pycharm": {
     "name": "#%%\n"
    }
   }
  },
  {
   "cell_type": "code",
   "execution_count": 45,
   "outputs": [],
   "source": [
    "# replacing specific items in an array using np.where\n",
    "# ------------------------------------\n"
   ],
   "metadata": {
    "collapsed": false,
    "pycharm": {
     "name": "#%%\n"
    }
   }
  },
  {
   "cell_type": "markdown",
   "metadata": {},
   "source": [
    "### Indexing, slicing and iterating over matrices\n",
    "* In general, numpy's indexing and slicing syntax follows closely what python uses for lists\n",
    "* A one dimensional array can be iterated over in the same way as you could for a regular list object.\n",
    "* Indexing and slicing follows a familiar syntax as lists too\n"
   ]
  },
  {
   "cell_type": "code",
   "execution_count": 46,
   "metadata": {},
   "outputs": [],
   "source": [
    "# some basic indexing\n",
    "# generate a 1D array\n",
    "# ------------------------------------\n"
   ]
  },
  {
   "cell_type": "code",
   "execution_count": 47,
   "outputs": [],
   "source": [
    "# what happens when we try the same things with a multiple dimensions?\n",
    "# Initialise a 2D array\n",
    "# ------------------------------------\n",
    "\n"
   ],
   "metadata": {
    "collapsed": false,
    "pycharm": {
     "name": "#%%\n"
    }
   }
  },
  {
   "cell_type": "code",
   "execution_count": 49,
   "outputs": [],
   "source": [
    "# we can iterate over the rows of a multidimensional array\n",
    "# ------------------------------------\n"
   ],
   "metadata": {
    "collapsed": false,
    "pycharm": {
     "name": "#%%\n"
    }
   }
  },
  {
   "cell_type": "code",
   "execution_count": 50,
   "outputs": [],
   "source": [
    "# or we can flatten the array out\n",
    "# ------------------------------------\n"
   ],
   "metadata": {
    "collapsed": false,
    "pycharm": {
     "name": "#%%\n"
    }
   }
  },
  {
   "cell_type": "markdown",
   "metadata": {
    "pycharm": {
     "name": "#%% md\n"
    }
   },
   "source": [
    "Now it's your turn! In the code cell below, see if you can produce the following matrix without writing it out manually!\n",
    "\n",
    "| 1 | 1 | 1 | 1 | 1 |\n",
    "|---|---|---|---|---|\n",
    "| 1 | 0 | 0 | 0 | 1 |\n",
    "| 1 | 0 | 9 | 0 | 1 |\n",
    "| 1 | 0 | 0 | 0 | 1 |\n",
    "| 1 | 1 | 1 | 1 | 1 |\n"
   ]
  },
  {
   "cell_type": "code",
   "execution_count": 50,
   "outputs": [],
   "source": [
    "\n"
   ],
   "metadata": {
    "collapsed": false,
    "pycharm": {
     "name": "#%%\n"
    }
   }
  },
  {
   "cell_type": "markdown",
   "source": [
    "### Concatenating arrays\n",
    "\n",
    "Numpy provides a few ways to concatenate arrays\n",
    "\n"
   ],
   "metadata": {
    "collapsed": false,
    "pycharm": {
     "name": "#%% md\n"
    }
   }
  },
  {
   "cell_type": "code",
   "execution_count": 57,
   "outputs": [],
   "source": [
    "# define two arrays\n",
    "# ------------------------------------\n",
    "\n",
    "# stack the arrays vertically\n",
    "# ------------------------------------\n"
   ],
   "metadata": {
    "collapsed": false,
    "pycharm": {
     "name": "#%%\n"
    }
   }
  },
  {
   "cell_type": "markdown",
   "source": [
    "### Working with `np.random`\n",
    "The numpy.random module contains functions to help us generate and deal with random numbers"
   ],
   "metadata": {
    "collapsed": false,
    "pycharm": {
     "name": "#%% md\n"
    }
   }
  },
  {
   "cell_type": "code",
   "execution_count": 52,
   "outputs": [],
   "source": [
    "# Produce an array of arbitrary size with uniform distribution\n",
    "# ------------------------------------\n",
    "\n",
    "# produce an array with normal distribution\n",
    "# ------------------------------------\n"
   ],
   "metadata": {
    "collapsed": false,
    "pycharm": {
     "name": "#%%\n"
    }
   }
  },
  {
   "cell_type": "code",
   "execution_count": 53,
   "outputs": [],
   "source": [
    "# check the statistics from a Normally distributed array\n"
   ],
   "metadata": {
    "collapsed": false,
    "pycharm": {
     "name": "#%%\n"
    }
   }
  },
  {
   "cell_type": "code",
   "execution_count": 54,
   "outputs": [],
   "source": [
    "# produce an array of random integers in a certain range\n"
   ],
   "metadata": {
    "collapsed": false,
    "pycharm": {
     "name": "#%%\n"
    }
   }
  },
  {
   "cell_type": "markdown",
   "source": [
    "### Over to you -\n",
    "The code below generates random walks in 3d space, with some of the lines missing - use the prompts to complete the code using the numpy methods we hace covered today"
   ],
   "metadata": {
    "collapsed": false
   }
  },
  {
   "cell_type": "code",
   "execution_count": 56,
   "outputs": [],
   "source": [
    "import matplotlib.pyplot as plt\n",
    "from itertools import cycle\n",
    "# for plotting pretty colours\n",
    "colors = cycle(\"grcmykbgrcmykbgrcmykbgrcmyk\")\n",
    "\n",
    "# Define parameters for the walk\n",
    "dims = 3\n",
    "n_runs = 10 # plot 10 random walks each of 1000 steps\n",
    "step_n = 1000\n",
    "step_set = [-1, 0 ,1] # stay where you are, go forward, or go backward\n",
    "# Define a variable `runs` as a 1D array with the same number of elements as `nruns`, starting at zero\n",
    "# ------------------------------------\n",
    "runs =\n",
    "step_shape = (step_n,dims)\n",
    "\n",
    "\n",
    "fig = plt.figure(figsize=(10,10),dpi=250)\n",
    "ax = fig.add_subplot(111, projection=\"3d\")\n",
    "ax.grid(False)\n",
    "ax.xaxis.pane.fill = ax.yaxis.pane.fill = ax.zaxis.pane.fill = False\n",
    "ax.set_xlabel(\"X\")\n",
    "ax.set_ylabel(\"Y\")\n",
    "ax.set_zlabel(\"Z\")\n",
    "\n",
    "for i, col in zip(runs, colors):\n",
    "    # Simulate steps in 3D\n",
    "    # define a numpy array `origin` that randomly initialises the origin for the walk, within the range (-10, 10)\n",
    "    # ------------------------------------\n",
    "    origin =\n",
    "    # generate the trajectory by choosing from the step set for each dimension and for each step\n",
    "    # ------------------------------------\n",
    "    steps =\n",
    "    # concatenate the origin and step trajectories - sum over the zeroth axis to get the coordinates for each step\n",
    "    # ------------------------------------\n",
    "    path =\n",
    "    start = path[:1]\n",
    "    stop = path[-1:]\n",
    "    # Plot the path\n",
    "    ax.scatter3D(path[:,0], path[:,1], path[:,2],\n",
    "                 c=col,alpha=0.15,s=1);\n",
    "    ax.plot3D(path[:,0], path[:,1], path[:,2],\n",
    "              c=col, alpha=0.25,lw=0.25)\n",
    "    ax.plot3D(start[:,0], start[:,1], start[:,2],\n",
    "              c=col, marker=\"+\")\n",
    "    ax.plot3D(stop[:,0], stop[:,1], stop[:,2],\n",
    "              c=col, marker=\"o\")\n",
    "plt.title(\"3D Random Walk\")\n",
    "plt.show()"
   ],
   "metadata": {
    "collapsed": false,
    "pycharm": {
     "name": "#%%\n"
    }
   }
  },
  {
   "cell_type": "code",
   "execution_count": null,
   "outputs": [],
   "source": [],
   "metadata": {
    "collapsed": false,
    "pycharm": {
     "name": "#%%\n"
    }
   }
  }
 ],
 "metadata": {
  "kernelspec": {
   "name": "python3",
   "language": "python",
   "display_name": "Python 3"
  },
  "language_info": {
   "codemirror_mode": {
    "name": "ipython",
    "version": 3
   },
   "file_extension": ".py",
   "mimetype": "text/x-python",
   "name": "python",
   "nbconvert_exporter": "python",
   "pygments_lexer": "ipython3",
   "version": "3.8.8"
  }
 },
 "nbformat": 4,
 "nbformat_minor": 4
}