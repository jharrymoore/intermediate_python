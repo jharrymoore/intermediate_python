{
 "cells": [
  {
   "cell_type": "markdown",
   "metadata": {
    "pycharm": {
     "name": "#%% md\n"
    }
   },
   "source": [
    "# Introduction to Matplotlib and Seaborn\n",
    "\n",
    "## Goals\n",
    "-----\n",
    "* understand the central concepts for plotting beautiful figures using matplotlib\n",
    "* get used to seaborn as a higher level plotting package\n",
    "\n",
    "\n",
    "This week we will be using the packages `matplotlib` and `seaborn` to visualise our breast cancer dataset from last week. It's important to be able to both visualise data (usually from dataframes) and plot results of any analysis you have carried out on the data. The plotting functions you use in these two scenarios will overlap a considerable amount, so we will just focus on generating plots to visualise the original data, without doing too much processing of the data first. "
   ]
  },
  {
   "cell_type": "markdown",
   "metadata": {},
   "source": [
    "### Loading the required modules and data\n",
    "\n",
    "We will need a few more modules than we have on previous weeks, as you can see below. We also import the same data that we used last week (the METABRIC dataset)."
   ]
  },
  {
   "cell_type": "code",
   "execution_count": null,
   "metadata": {},
   "outputs": [],
   "source": [
    "import numpy as np\n",
    "import pandas as pd\n",
    "\n",
    "import matplotlib.pyplot as plt\n",
    "import seaborn as sns"
   ]
  },
  {
   "cell_type": "markdown",
   "metadata": {},
   "source": [
    "A quick note for anyone who has seen The West Wing - by convention `seaborn` is imported as `sns`. This is relating to Samuel Norman 'Sam' Seaborn who is a character on The West Wing. The creator of the seaborn package has also written other packages such as `moss` (Donna Moss) and `lyman` (Josh Lyman)."
   ]
  },
  {
   "cell_type": "code",
   "execution_count": null,
   "metadata": {},
   "outputs": [],
   "source": [
    "metabric = pd.read_csv('https://raw.githubusercontent.com/AstraZeneca-Code-Club/intermediate_python/main/metabric_clinical_and_expression_data.csv')\n",
    "metabric.head()"
   ]
  },
  {
   "cell_type": "markdown",
   "metadata": {},
   "source": [
    "To recap from last time - the rows in a `DataFrame` are the **observations** (patients in the case of METABRIC) whereas columns are the observed **variables**."
   ]
  },
  {
   "cell_type": "markdown",
   "metadata": {},
   "source": [
    "### Using matplotlib to visualise our data\n",
    "\n",
    "Let's first plot a simple bar plot showing the distribution of tumour stage in the patients."
   ]
  },
  {
   "cell_type": "code",
   "execution_count": null,
   "metadata": {},
   "outputs": [],
   "source": [
    "labels, counts = np.unique(metabric['Tumour_stage'].dropna(), return_counts = True)\n",
    "plt.bar(labels, counts, align='center')\n",
    "plt.show()"
   ]
  },
  {
   "cell_type": "markdown",
   "metadata": {},
   "source": [
    "This plot gives us the basic information if we are looking at it as part of this whole notebook. However, you will often be generating plots to include in presentations or posters, and will therefore need to add more information to the plot.\n",
    "\n",
    "If you are not just using a set figure such as `plt.hist` and instead want to be able to personalise the figure, it is better to set up the figure as below:"
   ]
  },
  {
   "cell_type": "code",
   "execution_count": null,
   "metadata": {},
   "outputs": [],
   "source": [
    "fig = plt.figure()\n",
    "ax = fig.add_subplot(111) #row-col-num\n",
    "ax.bar(labels, counts, align='center', color=['black', 'red', 'cyan', 'blue', 'green'])\n",
    "ax.set(title = 'Distribution of cancer stage in metabric dataset',\n",
    "       ylabel = 'No. of patients',\n",
    "       xlabel = 'Cancer stage')\n",
    "plt.show()"
   ]
  },
  {
   "cell_type": "markdown",
   "metadata": {},
   "source": [
    "Now that we've adapted the plot to our personal requirements, we would like to export the image so that we can use it for example in a presentation. We do this by just adding one more line to our existing code."
   ]
  },
  {
   "cell_type": "code",
   "execution_count": null,
   "metadata": {},
   "outputs": [],
   "source": [
    "fig = plt.figure()\n",
    "ax = fig.add_subplot(111) \n",
    "ax.bar(labels, counts, align='center', color=['black', 'red', 'cyan', 'blue', 'green'])\n",
    "ax.set(title = 'Distribution of cancer stage in metabric dataset',\n",
    "       ylabel = 'No. of patients',\n",
    "       xlabel = 'Cancer stage')\n",
    "plt.savefig('cancer_stage.png')\n",
    "plt.show()"
   ]
  },
  {
   "cell_type": "markdown",
   "metadata": {},
   "source": [
    "#### Exercise 1\n",
    "\n",
    "- Generate a scatter plot with `FOXA1` on the x-axis and `MLPH` on the y-axis\n",
    "- Add figure and axes titles\n",
    "- Change the points to be red '+' signs, instead of the standard blue dots\n",
    "- Save the figure as a .png file\n",
    "\n",
    "Extension: This figure may be too small for people to read properly. Change the size of the figure to be 8cm across by 6cm down."
   ]
  },
  {
   "cell_type": "code",
   "execution_count": null,
   "metadata": {},
   "outputs": [],
   "source": []
  },
  {
   "cell_type": "markdown",
   "metadata": {},
   "source": [
    "### Doing multiple plots at once:\n",
    "\n",
    "`matplotlib` allows us to create subplots within a figure and to display different things in each of these subplots. We will use this to generate some more types of plots in `matplotlib`."
   ]
  },
  {
   "cell_type": "code",
   "execution_count": null,
   "metadata": {},
   "outputs": [],
   "source": [
    "fig, axs = plt.subplots(2, 2)\n",
    "axs[0, 0].scatter(metabric['FOXA1'], metabric['MLPH'], marker='+', color='red')\n",
    "axs[0, 0].set_title('FOXA1 vs MLPH')\n",
    "axs[0, 1].hist(metabric['Age_at_diagnosis'])\n",
    "axs[0, 1].set_title('Histogram of age at diagnosis')\n",
    "axs[1, 0].matshow(metabric.corr())\n",
    "axs[1, 1].plot(metabric['Survival_time'], metabric['PIK3CA'], 'tab:red', color='green')\n",
    "axs[1, 1].set_title('Line plot survival vs PIK3CA')\n",
    "fig.tight_layout() # without this the x-ticks would overlap with the bottom row titles"
   ]
  },
  {
   "cell_type": "markdown",
   "metadata": {},
   "source": [
    "#### Drawbacks of matplotlib:\n",
    "\n",
    "- basic data manipulation\n",
    "- can't sort based on a column value\n",
    "- not particularly well suited to dealing with DataFrames\n",
    "- not that easy to adapt aesthetics past colours\n",
    "\n",
    "Let's see how `seaborn` can be used as a wrapper around matplotlib to extend the functionality and create better figures.\n",
    "\n",
    "First of all we will recreate a figure from `matplotlib` and see how we can format it differently using `seaborn`"
   ]
  },
  {
   "cell_type": "code",
   "execution_count": null,
   "metadata": {},
   "outputs": [],
   "source": [
    "# Here's our original figure using matplotlib\n",
    "\n",
    "fig = plt.figure()\n",
    "ax = fig.add_subplot(111) \n",
    "ax.scatter(metabric['FOXA1'], metabric['MLPH'], marker='+', color='red')\n",
    "ax.set(ylabel = 'MLPH value',\n",
    "       xlabel = 'FOXA1 value')\n",
    "plt.savefig('test_figure.png')\n",
    "plt.show()"
   ]
  },
  {
   "cell_type": "code",
   "execution_count": null,
   "metadata": {},
   "outputs": [],
   "source": [
    "sns.scatterplot(data=metabric, x='FOXA1', y='MLPH', color='red', marker='+')"
   ]
  },
  {
   "cell_type": "code",
   "execution_count": null,
   "metadata": {},
   "outputs": [],
   "source": [
    "# We can easily change styles using seaborn:\n",
    "\n",
    "figure = plt.figure(figsize=(6, 4))\n",
    "gs = figure.add_gridspec(2, 2)\n",
    "\n",
    "with sns.axes_style(\"darkgrid\"):\n",
    "    ax = figure.add_subplot(gs[0, 0])\n",
    "    sns.scatterplot(data=metabric, x='FOXA1', y='MLPH', color='red', marker='+')\n",
    "\n",
    "with sns.axes_style(\"white\"):\n",
    "    ax = figure.add_subplot(gs[0, 1])\n",
    "    sns.scatterplot(data=metabric, x='FOXA1', y='MLPH', color='red', marker='+')\n",
    "\n",
    "with sns.axes_style(\"ticks\"):\n",
    "    ax = figure.add_subplot(gs[1, 0])\n",
    "    sns.scatterplot(data=metabric, x='FOXA1', y='MLPH', color='red', marker='+')\n",
    "\n",
    "with sns.axes_style(\"whitegrid\"):\n",
    "    ax = figure.add_subplot(gs[1, 1])\n",
    "    sns.scatterplot(data=metabric, x='FOXA1', y='MLPH', color='red', marker='+')\n",
    "\n",
    "figure.tight_layout()"
   ]
  },
  {
   "cell_type": "markdown",
   "metadata": {},
   "source": [
    "It looks like the patients can be split into two groups. `seaborn` allows us to easily colour points according to the value of a third column in the DataFrame."
   ]
  },
  {
   "cell_type": "code",
   "execution_count": null,
   "metadata": {},
   "outputs": [],
   "source": [
    "sns.scatterplot(data=metabric, x='FOXA1', y='MLPH', hue='ER_status', marker='+')\n",
    "\n",
    "# ER-positive: Breast cancers that have estrogen receptors are called ER-positive (or ER+) cancers. \n",
    "# PR-positive: Breast cancers with progesterone receptors are called PR-positive (or PR+) cancers.\n",
    "\n",
    "# For our dataset you get the same plot for colouring according to ER-positive and PR-positive"
   ]
  },
  {
   "cell_type": "code",
   "execution_count": null,
   "metadata": {},
   "outputs": [],
   "source": [
    "sns.scatterplot(data=metabric, x='FOXA1', y='MLPH', hue='GATA3', marker='+')"
   ]
  },
  {
   "cell_type": "code",
   "execution_count": null,
   "metadata": {},
   "outputs": [],
   "source": [
    "sns.violinplot(data=metabric, x='ER_status', y='GATA3')"
   ]
  },
  {
   "cell_type": "markdown",
   "metadata": {},
   "source": [
    "#### Exercise 2:\n",
    "\n",
    "- produce a violin plot which measures the value of GATA3 across each cohort (you should end up with 5 'violins')\n",
    "- still in one plot, split each cohort into two separate 'violins' depending on ER_status, by using the ER_status as the variable to colour the plot by (you should end up with 10 'violins' on one plot)\n",
    "\n",
    "Extension: explore what the 'split' argument does to your violin plots, and try out doing violin plots with different colour schemes using the 'palette' argument"
   ]
  },
  {
   "cell_type": "code",
   "execution_count": null,
   "metadata": {},
   "outputs": [],
   "source": [
    "# violin plot Cohort vs GATA3"
   ]
  },
  {
   "cell_type": "code",
   "execution_count": null,
   "metadata": {},
   "outputs": [],
   "source": [
    "# violin plot Cohort vs GATA3 coloured by ER_status"
   ]
  },
  {
   "cell_type": "code",
   "execution_count": null,
   "metadata": {},
   "outputs": [],
   "source": [
    "# violin plot Cohort vs GATA3 coloured by ER_status, with split and PuRd palette"
   ]
  },
  {
   "cell_type": "code",
   "execution_count": null,
   "metadata": {},
   "outputs": [],
   "source": []
  },
  {
   "cell_type": "markdown",
   "metadata": {},
   "source": [
    "Provided we know which columns we are interested in and can narrow it down to a relatively small number of columns, the `pairplot` function can be useful."
   ]
  },
  {
   "cell_type": "code",
   "execution_count": null,
   "metadata": {},
   "outputs": [],
   "source": [
    "small_metabric = metabric[['Survival_time', 'Tumour_size', 'ER_status', 'ESR1', 'PGR', 'MLPH']]\n",
    "small_metabric.head()"
   ]
  },
  {
   "cell_type": "code",
   "execution_count": null,
   "metadata": {},
   "outputs": [],
   "source": [
    "sns.pairplot(small_metabric, hue='ER_status')"
   ]
  },
  {
   "cell_type": "code",
   "execution_count": null,
   "metadata": {},
   "outputs": [],
   "source": []
  },
  {
   "cell_type": "markdown",
   "metadata": {},
   "source": [
    "### Homework exercises:\n",
    "\n",
    "Generate the following plots using seaborn's inbuilt titanic dataset. Once you have imported seaborn as sns, you can load the data by running the line:\n",
    "`titanic = sns.load_dataset(\"titanic\")`\n",
    "\n",
    "1. Look through the seaborn documentation to find a plot which will show both a scatter plot of the two chosen variables, as well as a histogram of each variable along the top and right hand side of the plot. Use this function to plot 'fare' against 'age'.\n",
    "2. Use both a boxplot and a swarmplot to investigate the distribution of 'pclass'. Spend some time exploring what this plot looks like using different seaborn styles and colours.\n",
    "3. Generate a heatmap showing the correlations between each pair of variables in the dataset. Save this image as a .png file."
   ]
  },
  {
   "cell_type": "code",
   "execution_count": null,
   "metadata": {},
   "outputs": [],
   "source": []
  }
 ],
 "metadata": {
  "kernelspec": {
   "display_name": "Python 3",
   "language": "python",
   "name": "python3"
  },
  "language_info": {
   "codemirror_mode": {
    "name": "ipython",
    "version": 3
   },
   "file_extension": ".py",
   "mimetype": "text/x-python",
   "name": "python",
   "nbconvert_exporter": "python",
   "pygments_lexer": "ipython3",
   "version": "3.7.6"
  }
 },
 "nbformat": 4,
 "nbformat_minor": 4
}
